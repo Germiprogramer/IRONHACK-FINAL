{
  "cells": [
    {
      "cell_type": "code",
      "execution_count": null,
      "metadata": {
        "id": "AOzqa2c-nA_j"
      },
      "outputs": [
        {
          "ename": "",
          "evalue": "",
          "output_type": "error",
          "traceback": [
            "\u001b[1;31mLa ejecución de celdas con 'Python 3.10.9 64-bit (microsoft store)' requieren el paquete ipykernel.\n",
            "\u001b[1;31mEjecute el siguiente comando para instalar 'ipykernel' en el entorno de Python. comando \n",
            "\u001b[1;31m: '\"c:/Users/Germán Llorente/AppData/Local/Microsoft/WindowsApps/python3.10.exe\" -m pip install ipykernel -U --force-reinstall'"
          ]
        }
      ],
      "source": [
        "import pandas as pd\n",
        "import numpy as np\n",
        "import seaborn as sns"
      ]
    },
    {
      "cell_type": "markdown",
      "metadata": {
        "id": "sXT4TUvXmyt-"
      },
      "source": [
        "1.  Select all the data from table `house_price_data` to check if the data was imported correctly.\n"
      ]
    },
    {
      "cell_type": "code",
      "execution_count": null,
      "metadata": {
        "colab": {
          "base_uri": "https://localhost:8080/",
          "height": 299
        },
        "id": "Z24rOTqrkjFh",
        "outputId": "a0f6f872-ca2a-4014-ea19-daafce3c6eb0"
      },
      "outputs": [
        {
          "ename": "",
          "evalue": "",
          "output_type": "error",
          "traceback": [
            "\u001b[1;31mLa ejecución de celdas con 'Python 3.10.9 64-bit (microsoft store)' requieren el paquete ipykernel.\n",
            "\u001b[1;31mEjecute el siguiente comando para instalar 'ipykernel' en el entorno de Python. comando \n",
            "\u001b[1;31m: '\"c:/Users/Germán Llorente/AppData/Local/Microsoft/WindowsApps/python3.10.exe\" -m pip install ipykernel -U --force-reinstall'"
          ]
        }
      ],
      "source": [
        "casas=pd.read_csv(\"regression_data.csv\")\n",
        "casas.head()"
      ]
    },
    {
      "cell_type": "markdown",
      "metadata": {
        "id": "q6bwMCIgS64X"
      },
      "source": [
        "# Nueva sección"
      ]
    },
    {
      "cell_type": "markdown",
      "metadata": {
        "id": "XmGHhiy_pVqx"
      },
      "source": [
        "2.  Drop the column `date` from the data frame, as we would not use it in the analysis. Select all the data from the table to verify if the command worked. Limit your returned results to 10.\n"
      ]
    },
    {
      "cell_type": "code",
      "execution_count": null,
      "metadata": {
        "colab": {
          "base_uri": "https://localhost:8080/",
          "height": 427
        },
        "id": "ZXoofH0UpZTu",
        "outputId": "abee9481-18ef-48ea-f1d8-3276b9637345"
      },
      "outputs": [
        {
          "ename": "",
          "evalue": "",
          "output_type": "error",
          "traceback": [
            "\u001b[1;31mLa ejecución de celdas con 'Python 3.10.9 64-bit (microsoft store)' requieren el paquete ipykernel.\n",
            "\u001b[1;31mEjecute el siguiente comando para instalar 'ipykernel' en el entorno de Python. comando \n",
            "\u001b[1;31m: '\"c:/Users/Germán Llorente/AppData/Local/Microsoft/WindowsApps/python3.10.exe\" -m pip install ipykernel -U --force-reinstall'"
          ]
        }
      ],
      "source": [
        "#Guardamos el dataset original\n",
        "casas_original = casas\n",
        "\n",
        "casas.drop([\"date\"], axis = 1, inplace= True)\n",
        "casas.head(10)"
      ]
    },
    {
      "cell_type": "markdown",
      "metadata": {
        "id": "Rqw2pKAfqlyB"
      },
      "source": []
    },
    {
      "cell_type": "markdown",
      "metadata": {
        "id": "8exQ_g1lr1jv"
      },
      "source": [
        "3. How many rows of data do you have?\n"
      ]
    },
    {
      "cell_type": "code",
      "execution_count": null,
      "metadata": {
        "colab": {
          "base_uri": "https://localhost:8080/"
        },
        "id": "VrvAxJnOsGHM",
        "outputId": "472e731e-900e-4675-a59b-072cc3895c42"
      },
      "outputs": [
        {
          "ename": "",
          "evalue": "",
          "output_type": "error",
          "traceback": [
            "\u001b[1;31mLa ejecución de celdas con 'Python 3.10.9 64-bit (microsoft store)' requieren el paquete ipykernel.\n",
            "\u001b[1;31mEjecute el siguiente comando para instalar 'ipykernel' en el entorno de Python. comando \n",
            "\u001b[1;31m: '\"c:/Users/Germán Llorente/AppData/Local/Microsoft/WindowsApps/python3.10.exe\" -m pip install ipykernel -U --force-reinstall'"
          ]
        }
      ],
      "source": [
        "print(len(casas.index))"
      ]
    },
    {
      "cell_type": "markdown",
      "metadata": {
        "id": "1N-9qNdYsf8b"
      },
      "source": [
        "4.  Find the unique values of the following columns:\n",
        "\n",
        "    - What are the unique values in the column `bedrooms`?\n",
        "    - What are the unique values in the column `bathrooms`?\n",
        "    - What are the unique values in the column `floors`?\n",
        "    - What are the unique values in the column `condition`?\n",
        "    - What are the unique values in the column `grade`?\n"
      ]
    },
    {
      "cell_type": "code",
      "execution_count": null,
      "metadata": {
        "colab": {
          "base_uri": "https://localhost:8080/"
        },
        "id": "au5gqxAJs2WI",
        "outputId": "ed62c45e-0eda-44b9-e3a9-0f5d2848c7e4"
      },
      "outputs": [
        {
          "ename": "",
          "evalue": "",
          "output_type": "error",
          "traceback": [
            "\u001b[1;31mLa ejecución de celdas con 'Python 3.10.9 64-bit (microsoft store)' requieren el paquete ipykernel.\n",
            "\u001b[1;31mEjecute el siguiente comando para instalar 'ipykernel' en el entorno de Python. comando \n",
            "\u001b[1;31m: '\"c:/Users/Germán Llorente/AppData/Local/Microsoft/WindowsApps/python3.10.exe\" -m pip install ipykernel -U --force-reinstall'"
          ]
        }
      ],
      "source": [
        "uniqueValues = casas['bedrooms'].nunique()\n",
        "print('Number of unique values in column \"bedrooms\" of the dataframe : ')\n",
        "print(uniqueValues)\n",
        "\n",
        "uniqueValues = casas['bathrooms'].nunique()\n",
        "print('Number of unique values in column \"bathrooms\" of the dataframe : ')\n",
        "print(uniqueValues)\n",
        "\n",
        "uniqueValues = casas['floors'].nunique()\n",
        "print('Number of unique values in column \"floors\" of the dataframe : ')\n",
        "print(uniqueValues)\n",
        "\n",
        "uniqueValues = casas['condition'].nunique()\n",
        "print('Number of unique values in column \"condition\" of the dataframe : ')\n",
        "print(uniqueValues)\n",
        "\n",
        "uniqueValues = casas['grade'].nunique()\n",
        "print('Number of unique values in column \"grade\" of the dataframe : ')\n",
        "print(uniqueValues)"
      ]
    },
    {
      "cell_type": "markdown",
      "metadata": {
        "id": "ZyIf5eZ-wptJ"
      },
      "source": [
        "5.  Arrange the data in decreasing order by the price of the house. Return only the IDs of the top 10 most expensive houses in your data.\n"
      ]
    },
    {
      "cell_type": "code",
      "execution_count": null,
      "metadata": {
        "colab": {
          "base_uri": "https://localhost:8080/"
        },
        "id": "RGkPUnjExerE",
        "outputId": "a382fe4c-5a13-4e58-fd6e-48e98c730730"
      },
      "outputs": [
        {
          "ename": "",
          "evalue": "",
          "output_type": "error",
          "traceback": [
            "\u001b[1;31mLa ejecución de celdas con 'Python 3.10.9 64-bit (microsoft store)' requieren el paquete ipykernel.\n",
            "\u001b[1;31mEjecute el siguiente comando para instalar 'ipykernel' en el entorno de Python. comando \n",
            "\u001b[1;31m: '\"c:/Users/Germán Llorente/AppData/Local/Microsoft/WindowsApps/python3.10.exe\" -m pip install ipykernel -U --force-reinstall'"
          ]
        }
      ],
      "source": [
        "casas.sort_values(by=[\"price\"], ascending = False, inplace = True)\n",
        "casas[\"price\"].head(10)"
      ]
    },
    {
      "cell_type": "markdown",
      "metadata": {
        "id": "cOiJUsUe030S"
      },
      "source": [
        "6.  What is the average price of all the properties in your data?\n"
      ]
    },
    {
      "cell_type": "code",
      "execution_count": null,
      "metadata": {
        "colab": {
          "base_uri": "https://localhost:8080/"
        },
        "id": "9Qaxw7W81nZC",
        "outputId": "27925e3c-79f5-4509-97a8-994bb073f437"
      },
      "outputs": [
        {
          "ename": "",
          "evalue": "",
          "output_type": "error",
          "traceback": [
            "\u001b[1;31mLa ejecución de celdas con 'Python 3.10.9 64-bit (microsoft store)' requieren el paquete ipykernel.\n",
            "\u001b[1;31mEjecute el siguiente comando para instalar 'ipykernel' en el entorno de Python. comando \n",
            "\u001b[1;31m: '\"c:/Users/Germán Llorente/AppData/Local/Microsoft/WindowsApps/python3.10.exe\" -m pip install ipykernel -U --force-reinstall'"
          ]
        }
      ],
      "source": [
        "casas['price'].mean()"
      ]
    },
    {
      "cell_type": "markdown",
      "metadata": {
        "id": "jVPezb_G2UcG"
      },
      "source": [
        "\n",
        "7. In this exercise use a simple `groupby` to check the properties of some of the categorical variables in our data\n",
        "\n",
        "    - What is the average price of the houses grouped by bedrooms? The returned result should have only two columns: `Bedrooms` and `Average price`. \n",
        "    - What is the average `sqft_living` of the houses grouped by bedrooms? The returned result should have only two columns, `Bedrooms` and `Average_sqft_living`.\n",
        "    - What is the average price of the houses with a waterfront and without a waterfront? The returned result should have only two columns, `Waterfront` and `Average_price`.\n",
        "    - Is there any correlation between the columns `condition` and `grade`? Also, create a plot to visually check if there is a positive correlation or negative correlation or no correlation between both variables.\n"
      ]
    },
    {
      "cell_type": "code",
      "execution_count": null,
      "metadata": {
        "colab": {
          "base_uri": "https://localhost:8080/",
          "height": 457
        },
        "id": "hCDVPgkbjARD",
        "outputId": "de890e61-3add-4d51-adff-ea2994e1b615"
      },
      "outputs": [
        {
          "ename": "",
          "evalue": "",
          "output_type": "error",
          "traceback": [
            "\u001b[1;31mLa ejecución de celdas con 'Python 3.10.9 64-bit (microsoft store)' requieren el paquete ipykernel.\n",
            "\u001b[1;31mEjecute el siguiente comando para instalar 'ipykernel' en el entorno de Python. comando \n",
            "\u001b[1;31m: '\"c:/Users/Germán Llorente/AppData/Local/Microsoft/WindowsApps/python3.10.exe\" -m pip install ipykernel -U --force-reinstall'"
          ]
        }
      ],
      "source": [
        "casas[[\"bedrooms\", \"price\"]].groupby([\"bedrooms\"]).mean()"
      ]
    },
    {
      "cell_type": "code",
      "execution_count": null,
      "metadata": {
        "colab": {
          "base_uri": "https://localhost:8080/",
          "height": 457
        },
        "id": "si5izwMH2VKt",
        "outputId": "b766a1c9-9f43-4704-d309-f7773f67a130"
      },
      "outputs": [
        {
          "ename": "",
          "evalue": "",
          "output_type": "error",
          "traceback": [
            "\u001b[1;31mLa ejecución de celdas con 'Python 3.10.9 64-bit (microsoft store)' requieren el paquete ipykernel.\n",
            "\u001b[1;31mEjecute el siguiente comando para instalar 'ipykernel' en el entorno de Python. comando \n",
            "\u001b[1;31m: '\"c:/Users/Germán Llorente/AppData/Local/Microsoft/WindowsApps/python3.10.exe\" -m pip install ipykernel -U --force-reinstall'"
          ]
        }
      ],
      "source": [
        "casas[[\"bedrooms\", \"sqft_living\"]].groupby([\"bedrooms\"]).mean()"
      ]
    },
    {
      "cell_type": "code",
      "execution_count": null,
      "metadata": {
        "colab": {
          "base_uri": "https://localhost:8080/",
          "height": 143
        },
        "id": "-kei4hSgoMUT",
        "outputId": "f9685949-a226-4045-9528-2dfe7fab81fa"
      },
      "outputs": [
        {
          "ename": "",
          "evalue": "",
          "output_type": "error",
          "traceback": [
            "\u001b[1;31mLa ejecución de celdas con 'Python 3.10.9 64-bit (microsoft store)' requieren el paquete ipykernel.\n",
            "\u001b[1;31mEjecute el siguiente comando para instalar 'ipykernel' en el entorno de Python. comando \n",
            "\u001b[1;31m: '\"c:/Users/Germán Llorente/AppData/Local/Microsoft/WindowsApps/python3.10.exe\" -m pip install ipykernel -U --force-reinstall'"
          ]
        }
      ],
      "source": [
        "casas[[\"price\", \"waterfront\"]].groupby([\"waterfront\"]).mean()"
      ]
    },
    {
      "cell_type": "code",
      "execution_count": null,
      "metadata": {
        "colab": {
          "base_uri": "https://localhost:8080/",
          "height": 112
        },
        "id": "EKFfJltWobe9",
        "outputId": "9644555b-63f1-4845-8788-67c0873cd6d2"
      },
      "outputs": [
        {
          "ename": "",
          "evalue": "",
          "output_type": "error",
          "traceback": [
            "\u001b[1;31mLa ejecución de celdas con 'Python 3.10.9 64-bit (microsoft store)' requieren el paquete ipykernel.\n",
            "\u001b[1;31mEjecute el siguiente comando para instalar 'ipykernel' en el entorno de Python. comando \n",
            "\u001b[1;31m: '\"c:/Users/Germán Llorente/AppData/Local/Microsoft/WindowsApps/python3.10.exe\" -m pip install ipykernel -U --force-reinstall'"
          ]
        }
      ],
      "source": [
        "casas[[\"condition\", \"grade\"]].corr()\n",
        "\n",
        "sns.scatterplot(casas[\"condition\"], casas[\"grade\"])\n",
        "\n",
        "#No hay demasiada correlacion"
      ]
    },
    {
      "cell_type": "markdown",
      "metadata": {
        "id": "c1GaZ_QP2VxS"
      },
      "source": [
        "8. One of the customers is only interested in the following houses:\n",
        "\n",
        "    - Number of bedrooms either 3 or 4\n",
        "    - Bathrooms more than 3\n",
        "    - One Floor\n",
        "    - No waterfront\n",
        "    - Condition should be 3 at least\n",
        "    - Grade should be 5 at least\n",
        "    - Price smaller than 300000\n",
        "\n",
        "    For the rest of the things, they are not too concerned. Write code to find what are the houses available for them?\n",
        "\n"
      ]
    },
    {
      "cell_type": "code",
      "execution_count": null,
      "metadata": {
        "id": "qJi2ymOW2bAj"
      },
      "outputs": [
        {
          "ename": "",
          "evalue": "",
          "output_type": "error",
          "traceback": [
            "\u001b[1;31mLa ejecución de celdas con 'Python 3.10.9 64-bit (microsoft store)' requieren el paquete ipykernel.\n",
            "\u001b[1;31mEjecute el siguiente comando para instalar 'ipykernel' en el entorno de Python. comando \n",
            "\u001b[1;31m: '\"c:/Users/Germán Llorente/AppData/Local/Microsoft/WindowsApps/python3.10.exe\" -m pip install ipykernel -U --force-reinstall'"
          ]
        }
      ],
      "source": [
        "\n",
        "casas[(casas['bedrooms']==3) | (casas['bedrooms']==4)] & (casas['bathrooms']>3) & (casas['floors']==1) & (casas['waterfront']==0) & (casas['condition']>=3) & (casas['grade']>=5) & (casas['price']>300000)\n",
        "print(casas)\n",
        "\n",
        "#No hay casas que cumplan estas condiciones\n",
        "  \n"
      ]
    },
    {
      "cell_type": "markdown",
      "metadata": {
        "id": "kH0KqLuFUizv"
      },
      "source": [
        "9. Your manager wants to find out the list of properties whose prices are twice more than the average of all the properties in the database. Write code to show them the list of such properties. \n"
      ]
    },
    {
      "cell_type": "code",
      "execution_count": null,
      "metadata": {
        "colab": {
          "base_uri": "https://localhost:8080/",
          "height": 487
        },
        "id": "Zv86gQSBUkVE",
        "outputId": "518552bc-6515-43c4-9a25-8b0be156d928"
      },
      "outputs": [
        {
          "ename": "",
          "evalue": "",
          "output_type": "error",
          "traceback": [
            "\u001b[1;31mLa ejecución de celdas con 'Python 3.10.9 64-bit (microsoft store)' requieren el paquete ipykernel.\n",
            "\u001b[1;31mEjecute el siguiente comando para instalar 'ipykernel' en el entorno de Python. comando \n",
            "\u001b[1;31m: '\"c:/Users/Germán Llorente/AppData/Local/Microsoft/WindowsApps/python3.10.exe\" -m pip install ipykernel -U --force-reinstall'"
          ]
        }
      ],
      "source": [
        "media = casas[\"price\"].mean()\n",
        "casas[casas[\"price\"]>media*2]"
      ]
    },
    {
      "cell_type": "markdown",
      "metadata": {
        "id": "sK4sNd4JUkyd"
      },
      "source": [
        "10. Most customers are interested in properties with three or four bedrooms. What is the difference in average prices of the properties with three and four bedrooms? In this case you can simply use a `groupby` to check the prices for those particular houses.\n",
        "\n"
      ]
    },
    {
      "cell_type": "code",
      "execution_count": null,
      "metadata": {
        "colab": {
          "base_uri": "https://localhost:8080/"
        },
        "id": "ymy9hwX2UpdE",
        "outputId": "1b822cf7-7ca8-465f-9edf-d29bb58ea14f"
      },
      "outputs": [
        {
          "ename": "",
          "evalue": "",
          "output_type": "error",
          "traceback": [
            "\u001b[1;31mLa ejecución de celdas con 'Python 3.10.9 64-bit (microsoft store)' requieren el paquete ipykernel.\n",
            "\u001b[1;31mEjecute el siguiente comando para instalar 'ipykernel' en el entorno de Python. comando \n",
            "\u001b[1;31m: '\"c:/Users/Germán Llorente/AppData/Local/Microsoft/WindowsApps/python3.10.exe\" -m pip install ipykernel -U --force-reinstall'"
          ]
        }
      ],
      "source": [
        "#average prices of the properties with three bedrooms\n",
        "(casas[casas['bedrooms']==3]['price'].mean())\n",
        "\n",
        "\n",
        "\n"
      ]
    },
    {
      "cell_type": "code",
      "execution_count": null,
      "metadata": {
        "colab": {
          "base_uri": "https://localhost:8080/"
        },
        "id": "W84q4HZNYIJT",
        "outputId": "06890f69-bfec-410f-af29-b95c79af5c71"
      },
      "outputs": [
        {
          "ename": "",
          "evalue": "",
          "output_type": "error",
          "traceback": [
            "\u001b[1;31mLa ejecución de celdas con 'Python 3.10.9 64-bit (microsoft store)' requieren el paquete ipykernel.\n",
            "\u001b[1;31mEjecute el siguiente comando para instalar 'ipykernel' en el entorno de Python. comando \n",
            "\u001b[1;31m: '\"c:/Users/Germán Llorente/AppData/Local/Microsoft/WindowsApps/python3.10.exe\" -m pip install ipykernel -U --force-reinstall'"
          ]
        }
      ],
      "source": [
        "#average prices of the properties with four bedrooms\n",
        "casas[casas['bedrooms']==4]['price'].mean()"
      ]
    },
    {
      "cell_type": "code",
      "execution_count": null,
      "metadata": {
        "colab": {
          "base_uri": "https://localhost:8080/"
        },
        "id": "XLb87dToZV50",
        "outputId": "5b7e8022-18c2-4269-fcc0-a43ff57aab55"
      },
      "outputs": [
        {
          "ename": "",
          "evalue": "",
          "output_type": "error",
          "traceback": [
            "\u001b[1;31mLa ejecución de celdas con 'Python 3.10.9 64-bit (microsoft store)' requieren el paquete ipykernel.\n",
            "\u001b[1;31mEjecute el siguiente comando para instalar 'ipykernel' en el entorno de Python. comando \n",
            "\u001b[1;31m: '\"c:/Users/Germán Llorente/AppData/Local/Microsoft/WindowsApps/python3.10.exe\" -m pip install ipykernel -U --force-reinstall'"
          ]
        }
      ],
      "source": [
        "(casas[casas['bedrooms']==4]['price'].mean())-((casas[casas['bedrooms']==3]['price'].mean()))\n",
        "\n",
        "#Las viviendas con 3 habitaciones, son casi 170.000 euros mas baratas que las viviendas con 4 habitacines."
      ]
    },
    {
      "cell_type": "markdown",
      "metadata": {
        "id": "7czCWINgUqHe"
      },
      "source": [
        "11. What are the different locations where properties are available in your database? (distinct zip codes).\n",
        "\n"
      ]
    },
    {
      "cell_type": "code",
      "execution_count": null,
      "metadata": {
        "colab": {
          "base_uri": "https://localhost:8080/"
        },
        "id": "gwY11lHiUx1V",
        "outputId": "a874ac05-36cd-4278-ad4c-4c8de9bf731f"
      },
      "outputs": [
        {
          "ename": "",
          "evalue": "",
          "output_type": "error",
          "traceback": [
            "\u001b[1;31mLa ejecución de celdas con 'Python 3.10.9 64-bit (microsoft store)' requieren el paquete ipykernel.\n",
            "\u001b[1;31mEjecute el siguiente comando para instalar 'ipykernel' en el entorno de Python. comando \n",
            "\u001b[1;31m: '\"c:/Users/Germán Llorente/AppData/Local/Microsoft/WindowsApps/python3.10.exe\" -m pip install ipykernel -U --force-reinstall'"
          ]
        }
      ],
      "source": [
        "casas[\"zipcode\"].unique()"
      ]
    },
    {
      "cell_type": "markdown",
      "metadata": {
        "id": "SLX7hQlfUvMf"
      },
      "source": [
        "\n",
        "\n",
        "12. Show all the properties that were renovated.\n",
        "\n",
        "\n"
      ]
    },
    {
      "cell_type": "code",
      "execution_count": null,
      "metadata": {
        "colab": {
          "base_uri": "https://localhost:8080/",
          "height": 487
        },
        "id": "XUWdmmNPU2Hi",
        "outputId": "446bf4e8-e4f6-4395-bcad-9c374d55daba"
      },
      "outputs": [
        {
          "ename": "",
          "evalue": "",
          "output_type": "error",
          "traceback": [
            "\u001b[1;31mLa ejecución de celdas con 'Python 3.10.9 64-bit (microsoft store)' requieren el paquete ipykernel.\n",
            "\u001b[1;31mEjecute el siguiente comando para instalar 'ipykernel' en el entorno de Python. comando \n",
            "\u001b[1;31m: '\"c:/Users/Germán Llorente/AppData/Local/Microsoft/WindowsApps/python3.10.exe\" -m pip install ipykernel -U --force-reinstall'"
          ]
        }
      ],
      "source": [
        "casas[casas['yr_renovated']>0]"
      ]
    },
    {
      "cell_type": "markdown",
      "metadata": {
        "id": "VfjK5Z0wU2ep"
      },
      "source": [
        "13. Provide the details of the property that is the 11th most expensive property in your database.\n",
        "\n"
      ]
    },
    {
      "cell_type": "code",
      "execution_count": null,
      "metadata": {
        "colab": {
          "base_uri": "https://localhost:8080/",
          "height": 169
        },
        "id": "yPwMCtQRU4ui",
        "outputId": "98718da0-fd3e-4944-b260-1b668ef69a1e"
      },
      "outputs": [
        {
          "ename": "",
          "evalue": "",
          "output_type": "error",
          "traceback": [
            "\u001b[1;31mLa ejecución de celdas con 'Python 3.10.9 64-bit (microsoft store)' requieren el paquete ipykernel.\n",
            "\u001b[1;31mEjecute el siguiente comando para instalar 'ipykernel' en el entorno de Python. comando \n",
            "\u001b[1;31m: '\"c:/Users/Germán Llorente/AppData/Local/Microsoft/WindowsApps/python3.10.exe\" -m pip install ipykernel -U --force-reinstall'"
          ]
        }
      ],
      "source": [
        "display(casas.iloc(11))"
      ]
    }
  ],
  "metadata": {
    "colab": {
      "provenance": []
    },
    "kernelspec": {
      "display_name": "Python 3.10.9 64-bit (microsoft store)",
      "language": "python",
      "name": "python3"
    },
    "language_info": {
      "name": "python",
      "version": "3.10.9 (tags/v3.10.9:1dd9be6, Dec  6 2022, 20:01:21) [MSC v.1934 64 bit (AMD64)]"
    },
    "vscode": {
      "interpreter": {
        "hash": "b29396f9bfc5a27ccba810421f00f0d25d00a937834c0b5e3aa432ad617472dd"
      }
    }
  },
  "nbformat": 4,
  "nbformat_minor": 0
}
